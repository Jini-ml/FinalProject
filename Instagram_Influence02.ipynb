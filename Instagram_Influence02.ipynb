{
 "cells": [
  {
   "cell_type": "code",
   "execution_count": 1,
   "metadata": {},
   "outputs": [],
   "source": [
    "from bs4 import BeautifulSoup\n",
    "import time\n",
    "import re\n",
    "from selenium import webdriver # 브라우저를 조작하는 모듈\n",
    "from selenium.webdriver.chrome.service import Service # 크롬 드라이버의 시작과 중지를 담당하는 클래스\n",
    "from selenium.webdriver.common.by import By # 엘리먼트를 어떤 방식으로 선택할 지에 대한 상수\n",
    "from webdriver_manager.chrome import ChromeDriverManager # 크롬 드라이버를 관리\n",
    "import pandas as pd\n",
    "from tqdm.auto import tqdm\n",
    "from selenium.webdriver import ActionChains\n",
    "from selenium.webdriver.support import expected_conditions as EC\n",
    "from selenium.webdriver.support.ui import WebDriverWait"
   ]
  },
  {
   "cell_type": "markdown",
   "metadata": {},
   "source": [
    "#### 저는 명시적 대기를 사용하였지만 암묵적 대기를 사용하시면 더 빠르게 실행되게 할 수도 있습니다."
   ]
  },
  {
   "cell_type": "code",
   "execution_count": 2,
   "metadata": {},
   "outputs": [],
   "source": [
    "DATA_PATH = \"C:/Users/jjong/OneDrive/Desktop/project/data/\""
   ]
  },
  {
   "cell_type": "code",
   "execution_count": 3,
   "metadata": {},
   "outputs": [],
   "source": [
    "def influence_searching(ID):\n",
    "    url = \"https://www.instagram.com/\" + str(ID)\n",
    "    return url"
   ]
  },
  {
   "cell_type": "code",
   "execution_count": 4,
   "metadata": {},
   "outputs": [],
   "source": [
    "def select_first(driver):\n",
    "    first = driver.find_elements(By.CSS_SELECTOR, \"div._aagw\")[0]\n",
    "    first.click()\n",
    "    time.sleep(3)"
   ]
  },
  {
   "cell_type": "code",
   "execution_count": 5,
   "metadata": {},
   "outputs": [],
   "source": [
    "def get_content(driver):\n",
    "    html = driver.page_source\n",
    "    soup = BeautifulSoup(html, 'lxml')\n",
    "    \n",
    "    # 본문 내용\n",
    "    try:\n",
    "        content = soup.select('div._a9zs')[0].text\n",
    "    except:\n",
    "        content = ''\n",
    "    # 해시 태그\n",
    "    tags = re.findall(r'#[^\\s#,\\\\]+', content)\n",
    "    # 작성 일자\n",
    "    date = soup.select('time._aaqe')[0]['datetime'][:10]\n",
    "    # 좋아요\n",
    "    try:\n",
    "        like = soup.select('section._ae5m._ae5n._ae5o > div > div > span > a > span')[0].text\n",
    "        like = re.findall(r'[0-9]+', like)[0]\n",
    "    except:\n",
    "        like = 0\n",
    "    \n",
    "    # 댓글 더보기 클릭\n",
    "    action = ActionChains(driver)\n",
    "    for _ in range(100):\n",
    "        try:\n",
    "            WebDriverWait(driver, 5).until(EC.presence_of_element_located((By.XPATH, '/html/body/div[2]/div/div/div[3]/div/div/div[1]/div/div[3]/div/div/div/div/div[2]/div/article/div/div[2]/div/div/div[2]/div[1]/ul/li/div/button')))\n",
    "            next_coment = driver.find_element(By.XPATH, '/html/body/div[2]/div/div/div[3]/div/div/div[1]/div/div[3]/div/div/div/div/div[2]/div/article/div/div[2]/div/div/div[2]/div[1]/ul/li/div/button')\n",
    "            action.move_to_element(next_coment).perform()\n",
    "            next_coment.click()\n",
    "            driver.implicitly_wait(3)\n",
    "        except:\n",
    "            break\n",
    "    # 아이디 및 댓글 수집\n",
    "    html = driver.page_source\n",
    "    soup = BeautifulSoup(html, 'lxml')\n",
    "    WebDriverWait(driver, 5).until(EC.presence_of_element_located((By.CSS_SELECTOR, \"h3._a9zc\")))\n",
    "    try:\n",
    "        username = [username.div.div.div.a.get_text() for username in soup.find_all('h3', {'class' :'_a9zc'})]\n",
    "        comments = [coment.get_text() for coment in soup.find_all('span', {'class':'_aacl _aaco _aacu _aacx _aad7 _aade'})]\n",
    "    except:\n",
    "        username = ''\n",
    "        comments = ''\n",
    "\n",
    "    content = re.sub(r'#[^\\s#,\\\\]+', \"\", content)\n",
    "    data = [content, username, comments, date, like, tags]\n",
    "    return data"
   ]
  },
  {
   "cell_type": "code",
   "execution_count": 6,
   "metadata": {},
   "outputs": [],
   "source": [
    "def move_next(driver):\n",
    "    right = driver.find_element(By.CSS_SELECTOR, 'div._aaqg._aaqh')\n",
    "    right.click()\n",
    "    time.sleep(1.5)"
   ]
  },
  {
   "cell_type": "code",
   "execution_count": 7,
   "metadata": {},
   "outputs": [],
   "source": [
    "# 인스타그램에 로그인\n",
    "options = webdriver.ChromeOptions()\n",
    "options.add_argument('--start-maximized') # 전체 화면\n",
    "options.add_argument(\"--incognito\") # 시크릿 모드\n",
    "driver = webdriver.Chrome(\n",
    "    service=Service(ChromeDriverManager().install()),\n",
    "    options=options\n",
    ")\n",
    "\n",
    "driver.get('https://www.instagram.com')\n",
    "time.sleep(3)\n",
    "\n",
    "email = str(' -- ') # 아이디 입력\n",
    "input_id = driver.find_element(By.CSS_SELECTOR, '#loginForm > div > div:nth-child(1) > div > label > input').send_keys(email)\n",
    "\n",
    "password = str(' -- ') # 페스워드 입력\n",
    "input_pw = driver.find_element(By.CSS_SELECTOR, '#loginForm > div > div:nth-child(2) > div > label > input').send_keys(password)\n",
    "time.sleep(1)\n",
    "\n",
    "driver.find_element(By.CSS_SELECTOR, \"#loginForm > div > div:nth-child(3)\").click()"
   ]
  },
  {
   "cell_type": "code",
   "execution_count": 8,
   "metadata": {},
   "outputs": [],
   "source": [
    "baby_list = pd.read_csv(f'{DATA_PATH}list-baby.csv')\n",
    "baby = baby_list['address']"
   ]
  },
  {
   "cell_type": "code",
   "execution_count": 14,
   "metadata": {},
   "outputs": [
    {
     "data": {
      "text/plain": [
       "['do_ha0720',\n",
       " 'minnie._.bbo',\n",
       " 'yedamo_life',\n",
       " 'twoyumom_life',\n",
       " 'wooju_likeee',\n",
       " 'onlmom._.ilbo',\n",
       " 'joovely__',\n",
       " 'chan_11.21',\n",
       " 'yeajiiini',\n",
       " 'ddmoon.bb',\n",
       " 'ssong.stella',\n",
       " 'luv_woong_happy',\n",
       " 'prettyjiyoon.mom']"
      ]
     },
     "execution_count": 14,
     "metadata": {},
     "output_type": "execute_result"
    }
   ],
   "source": [
    "id_list = []\n",
    "for address in baby:\n",
    "    id = address.split('/')[3]\n",
    "    id_list.append(id)\n",
    "id_list = id_list[28:45]\n",
    "id_list"
   ]
  },
  {
   "cell_type": "code",
   "execution_count": 12,
   "metadata": {},
   "outputs": [
    {
     "data": {
      "application/vnd.jupyter.widget-view+json": {
       "model_id": "9ef3223b34234ded850076fe76dd787b",
       "version_major": 2,
       "version_minor": 0
      },
      "text/plain": [
       "outer:   0%|          | 0/13 [00:00<?, ?it/s]"
      ]
     },
     "metadata": {},
     "output_type": "display_data"
    },
    {
     "data": {
      "application/vnd.jupyter.widget-view+json": {
       "model_id": "fbe14d3b1332419eb1dd0f6049a6596a",
       "version_major": 2,
       "version_minor": 0
      },
      "text/plain": [
       "inner:   0%|          | 0/100 [00:00<?, ?it/s]"
      ]
     },
     "metadata": {},
     "output_type": "display_data"
    },
    {
     "data": {
      "application/vnd.jupyter.widget-view+json": {
       "model_id": "9ffcea44d25540219d245d2a5d1b53c0",
       "version_major": 2,
       "version_minor": 0
      },
      "text/plain": [
       "inner:   0%|          | 0/100 [00:00<?, ?it/s]"
      ]
     },
     "metadata": {},
     "output_type": "display_data"
    },
    {
     "data": {
      "application/vnd.jupyter.widget-view+json": {
       "model_id": "2f50825fb4a3405596971d437235ae3b",
       "version_major": 2,
       "version_minor": 0
      },
      "text/plain": [
       "inner:   0%|          | 0/100 [00:00<?, ?it/s]"
      ]
     },
     "metadata": {},
     "output_type": "display_data"
    },
    {
     "data": {
      "application/vnd.jupyter.widget-view+json": {
       "model_id": "9d984707e03345b3b654cc7ef0fc879a",
       "version_major": 2,
       "version_minor": 0
      },
      "text/plain": [
       "inner:   0%|          | 0/100 [00:00<?, ?it/s]"
      ]
     },
     "metadata": {},
     "output_type": "display_data"
    },
    {
     "data": {
      "application/vnd.jupyter.widget-view+json": {
       "model_id": "90cc50e8cb2047039068509a77dc4f7f",
       "version_major": 2,
       "version_minor": 0
      },
      "text/plain": [
       "inner:   0%|          | 0/100 [00:00<?, ?it/s]"
      ]
     },
     "metadata": {},
     "output_type": "display_data"
    },
    {
     "data": {
      "application/vnd.jupyter.widget-view+json": {
       "model_id": "e1a5a73ec5df4a048e6908d62a89ef22",
       "version_major": 2,
       "version_minor": 0
      },
      "text/plain": [
       "inner:   0%|          | 0/100 [00:00<?, ?it/s]"
      ]
     },
     "metadata": {},
     "output_type": "display_data"
    },
    {
     "data": {
      "application/vnd.jupyter.widget-view+json": {
       "model_id": "b115bd81d60e460f9275981ddc82a826",
       "version_major": 2,
       "version_minor": 0
      },
      "text/plain": [
       "inner:   0%|          | 0/100 [00:00<?, ?it/s]"
      ]
     },
     "metadata": {},
     "output_type": "display_data"
    },
    {
     "data": {
      "application/vnd.jupyter.widget-view+json": {
       "model_id": "31f88fd4a06e4715bb829e7a020f0166",
       "version_major": 2,
       "version_minor": 0
      },
      "text/plain": [
       "inner:   0%|          | 0/100 [00:00<?, ?it/s]"
      ]
     },
     "metadata": {},
     "output_type": "display_data"
    },
    {
     "data": {
      "application/vnd.jupyter.widget-view+json": {
       "model_id": "040ca6db2fb94b41aff164016ad11435",
       "version_major": 2,
       "version_minor": 0
      },
      "text/plain": [
       "inner:   0%|          | 0/100 [00:00<?, ?it/s]"
      ]
     },
     "metadata": {},
     "output_type": "display_data"
    },
    {
     "data": {
      "application/vnd.jupyter.widget-view+json": {
       "model_id": "d1d118b54bca43e996ea0067bd23db24",
       "version_major": 2,
       "version_minor": 0
      },
      "text/plain": [
       "inner:   0%|          | 0/100 [00:00<?, ?it/s]"
      ]
     },
     "metadata": {},
     "output_type": "display_data"
    },
    {
     "data": {
      "application/vnd.jupyter.widget-view+json": {
       "model_id": "96e6bc9a8e0541d69f6c99740aba9363",
       "version_major": 2,
       "version_minor": 0
      },
      "text/plain": [
       "inner:   0%|          | 0/100 [00:00<?, ?it/s]"
      ]
     },
     "metadata": {},
     "output_type": "display_data"
    },
    {
     "data": {
      "application/vnd.jupyter.widget-view+json": {
       "model_id": "766d62112a424033b25793c216b70e44",
       "version_major": 2,
       "version_minor": 0
      },
      "text/plain": [
       "inner:   0%|          | 0/100 [00:00<?, ?it/s]"
      ]
     },
     "metadata": {},
     "output_type": "display_data"
    },
    {
     "data": {
      "application/vnd.jupyter.widget-view+json": {
       "model_id": "2978190609f643d6a86238bbe9fb4a11",
       "version_major": 2,
       "version_minor": 0
      },
      "text/plain": [
       "inner:   0%|          | 0/100 [00:00<?, ?it/s]"
      ]
     },
     "metadata": {},
     "output_type": "display_data"
    }
   ],
   "source": [
    "# 한명의 인플루언서마다 게시글 100개 크롤링\n",
    "target = 100\n",
    "for infuluence in tqdm(id_list, desc=\"outer\", position=0):\n",
    "    driver.get(f'https://www.instagram.com/{infuluence}/')\n",
    "    \n",
    "    WebDriverWait(driver, 10).until(EC.presence_of_element_located((By.CSS_SELECTOR, \"span._ac2a\")))\n",
    "    count = int(driver.find_element(By.CSS_SELECTOR, \"span._ac2a\").text)\n",
    "    \n",
    "    driver.implicitly_wait(10)\n",
    "    \n",
    "    select_first(driver)\n",
    "    \n",
    "    results = []\n",
    "    for j in tqdm(range(target), desc=\"inner\", position=1):\n",
    "        driver.implicitly_wait(10)\n",
    "        if j >= count:\n",
    "            break\n",
    "        try:\n",
    "            data = get_content(driver)\n",
    "            results.append(data)\n",
    "            try:\n",
    "                move_next(driver)\n",
    "            except:\n",
    "                break\n",
    "        except:\n",
    "            time.sleep(1)\n",
    "            try:\n",
    "                move_next(driver)\n",
    "            except:\n",
    "                break\n",
    "\n",
    "        time.sleep(1.5)\n",
    "    \n",
    "    results_df = pd.DataFrame(results)\n",
    "    results_df.columns = ['content','username', 'comments', 'date', 'like', 'tags']\n",
    "    results_df.to_csv(f'{DATA_PATH}_{infuluence}_{count}insta_crawling.csv', encoding='utf-8-sig')\n",
    "    # 다음 ID로 넘어가기전 너무 빠르게 하면 오류 및 사람인지 확인하는 메시지가 떠서 저는 우선 30초를 줬습니다. \n",
    "    # 본인이 해보시고 오류가 안나는 선에서 시간을 정하시면 됩니다.\n",
    "    \n",
    "    time.sleep(30)\n",
    "driver.quit()"
   ]
  },
  {
   "cell_type": "code",
   "execution_count": 18,
   "metadata": {},
   "outputs": [
    {
     "data": {
      "text/html": [
       "<div>\n",
       "<style scoped>\n",
       "    .dataframe tbody tr th:only-of-type {\n",
       "        vertical-align: middle;\n",
       "    }\n",
       "\n",
       "    .dataframe tbody tr th {\n",
       "        vertical-align: top;\n",
       "    }\n",
       "\n",
       "    .dataframe thead th {\n",
       "        text-align: right;\n",
       "    }\n",
       "</style>\n",
       "<table border=\"1\" class=\"dataframe\">\n",
       "  <thead>\n",
       "    <tr style=\"text-align: right;\">\n",
       "      <th></th>\n",
       "      <th>content</th>\n",
       "      <th>username</th>\n",
       "      <th>comments</th>\n",
       "      <th>date</th>\n",
       "      <th>like</th>\n",
       "      <th>tags</th>\n",
       "    </tr>\n",
       "  </thead>\n",
       "  <tbody>\n",
       "    <tr>\n",
       "      <th>0</th>\n",
       "      <td>421일♡하 진짜 너무 사랑스럽자나..🙈토닥토닥해주던 엄마대신해서 셀프재우기🥰</td>\n",
       "      <td>[hyonlub, joy_and_l, imji_wonss, sojeonggim10,...</td>\n",
       "      <td>[ㅇㅓ머ㅠㅠㅠ 넘 이뻐요...!!!, 아 너무 사랑스로미😍 많이 받은 사랑을 다른 ...</td>\n",
       "      <td>2023-06-08</td>\n",
       "      <td>1316</td>\n",
       "      <td>[]</td>\n",
       "    </tr>\n",
       "    <tr>\n",
       "      <th>1</th>\n",
       "      <td>야시장에서 인형타기 게임할때마다 드는생각\"아 이돈으로 닭꼬치나 하나 더 사먹을껄...😔”</td>\n",
       "      <td>[eunmira6, ippdaji, hjheart6, doramafaldarevez...</td>\n",
       "      <td>[ㅋㅋㅋㅋ진짜 아기랑  잘놀아주시네요., 아빠가 더 신나셨네요~~~, 아버님이 더 ...</td>\n",
       "      <td>2022-12-08</td>\n",
       "      <td>4958</td>\n",
       "      <td>[]</td>\n",
       "    </tr>\n",
       "    <tr>\n",
       "      <th>2</th>\n",
       "      <td>𝚢𝚒𝚜𝚎𝚘ෆ +𝟾𝟸𝚍𝚊𝚢개월수에비해 진짜 많이데리고 나간것같은데 카페가본건 처음인것...</td>\n",
       "      <td>[sktcy90, newmmeme, bebe_.recipe, 202.2318, an...</td>\n",
       "      <td>[꺄 너무 귀여워요, 하이오즈에 애기수트안보이는데 어떤걸까요? 옷너무귀여워요, 너무...</td>\n",
       "      <td>2022-07-04</td>\n",
       "      <td>1</td>\n",
       "      <td>[]</td>\n",
       "    </tr>\n",
       "    <tr>\n",
       "      <th>3</th>\n",
       "      <td>497일♡더운날 둘이 카페데이트라도 하고싶어도 아기의자는 거부하고ㅜㅜ잡으러다니느라 ...</td>\n",
       "      <td>[k.minse0, 2seo_home]</td>\n",
       "      <td>[ㅎㅎ언니도 오늘 여기 가려고했는뒈!!!!!! 여기 가봐야겠다 ㅎㅎ😍, 이서사랑해여🧡]</td>\n",
       "      <td>2023-08-23</td>\n",
       "      <td>124</td>\n",
       "      <td>[#웰컴키즈존, #아기랑카페]</td>\n",
       "    </tr>\n",
       "    <tr>\n",
       "      <th>4</th>\n",
       "      <td>495일♡쓰레기버릴겸 산책나갔다가 크게 혼쭐나고 돌아옴밖은 날씨가 정말살벌해.. 집...</td>\n",
       "      <td>[goodi__mj, writtenbysey, ssu__nny, chachamom_...</td>\n",
       "      <td>[집에서도 웃으면서 잔놀아주는 착한아기야❤️5개월차 아들맘입니다.☺️소통하며 지내용...</td>\n",
       "      <td>2023-08-21</td>\n",
       "      <td>417</td>\n",
       "      <td>[#집콕놀이, #싱크대놀이]</td>\n",
       "    </tr>\n",
       "    <tr>\n",
       "      <th>...</th>\n",
       "      <td>...</td>\n",
       "      <td>...</td>\n",
       "      <td>...</td>\n",
       "      <td>...</td>\n",
       "      <td>...</td>\n",
       "      <td>...</td>\n",
       "    </tr>\n",
       "    <tr>\n",
       "      <th>95</th>\n",
       "      <td>슬기로운 격리생활 그래도 웃을일은 매일 생기네요🤣좋은기억 심어줘서 약잘먹는 아기로 ...</td>\n",
       "      <td>[with.u.yeseo, adongaaa, 2seo_home, heejuuu_k,...</td>\n",
       "      <td>[노선을 살짝 변경했구만요~~~♡, 갑자기 바쁜일😂❤️ 이서야 고생이 많아아❤️ 언...</td>\n",
       "      <td>2022-12-29</td>\n",
       "      <td>441</td>\n",
       "      <td>[#코로나패밀리, #왜아직도목요일]</td>\n",
       "    </tr>\n",
       "    <tr>\n",
       "      <th>96</th>\n",
       "      <td>이서네 근황남편에이어 결국 이서도 확진아픈와중에 저렇게 웃어주면 나는 정말 눙무리가...</td>\n",
       "      <td>[sung2hyun, jihye.jiyu__, yeonju_1.23, love22_...</td>\n",
       "      <td>[하ㅠㅠ 안쓰러워요 ㅠㅠ정말 이서야 ㅜㅜㅜ 조용히지나가길빌게요 ㅠㅠ, 저희랑 반대예...</td>\n",
       "      <td>2022-12-27</td>\n",
       "      <td>858</td>\n",
       "      <td>[]</td>\n",
       "    </tr>\n",
       "    <tr>\n",
       "      <th>97</th>\n",
       "      <td>오붓하게 조촐하게 크리스마스 끄읕🎄선물도많이받구 이서두 행복했떠?💕내년엔 집콕말고 ...</td>\n",
       "      <td>[adongaaa, 2seo_home, harami__yun, seo_mjmj]</td>\n",
       "      <td>[어디가 조촐하게죠오~~?😍❤️이서도 선물도 받고 너무 좋겠다아❤️, 256일🧡, ...</td>\n",
       "      <td>2022-12-25</td>\n",
       "      <td>422</td>\n",
       "      <td>[]</td>\n",
       "    </tr>\n",
       "    <tr>\n",
       "      <th>98</th>\n",
       "      <td>𝚖𝚊𝚛𝚛𝚢 𝚌𝚑𝚛𝚒𝚜𝚝𝚖𝚊𝚜 𝚢𝚒𝚜𝚎𝚘❤︎</td>\n",
       "      <td>[adongaaa, 22.joon__, little_coya_05, 2seo_hom...</td>\n",
       "      <td>[이서야 메리크리스마스야아❤️😍, 귀요미 루돌푸 이서야 행복한 메리크스마스 ! 🎄🎄...</td>\n",
       "      <td>2022-12-24</td>\n",
       "      <td>384</td>\n",
       "      <td>[#하필팅팅부은날🤣]</td>\n",
       "    </tr>\n",
       "    <tr>\n",
       "      <th>99</th>\n",
       "      <td>며칠 더 입혀보고 남기려고했는데 오늘 아침스토리보시고 종~일 많은분들이 요 슈트 물...</td>\n",
       "      <td>[remy_mom__, ps__yeon__, congsi._.m, 2seo_home...</td>\n",
       "      <td>[이서 사랑해😍, 이서맘님 요거 사이즈가 어떻게되욤??!, 릴스 보다가 아가 사랑스...</td>\n",
       "      <td>2022-12-23</td>\n",
       "      <td>495</td>\n",
       "      <td>[#협찬, #아기슈트, #아기잠옷, #아기실내복, #미니모먼트]</td>\n",
       "    </tr>\n",
       "  </tbody>\n",
       "</table>\n",
       "<p>100 rows × 6 columns</p>\n",
       "</div>"
      ],
      "text/plain": [
       "                                              content  \\\n",
       "0         421일♡하 진짜 너무 사랑스럽자나..🙈토닥토닥해주던 엄마대신해서 셀프재우기🥰   \n",
       "1   야시장에서 인형타기 게임할때마다 드는생각\"아 이돈으로 닭꼬치나 하나 더 사먹을껄...😔”   \n",
       "2   𝚢𝚒𝚜𝚎𝚘ෆ +𝟾𝟸𝚍𝚊𝚢개월수에비해 진짜 많이데리고 나간것같은데 카페가본건 처음인것...   \n",
       "3   497일♡더운날 둘이 카페데이트라도 하고싶어도 아기의자는 거부하고ㅜㅜ잡으러다니느라 ...   \n",
       "4   495일♡쓰레기버릴겸 산책나갔다가 크게 혼쭐나고 돌아옴밖은 날씨가 정말살벌해.. 집...   \n",
       "..                                                ...   \n",
       "95  슬기로운 격리생활 그래도 웃을일은 매일 생기네요🤣좋은기억 심어줘서 약잘먹는 아기로 ...   \n",
       "96  이서네 근황남편에이어 결국 이서도 확진아픈와중에 저렇게 웃어주면 나는 정말 눙무리가...   \n",
       "97  오붓하게 조촐하게 크리스마스 끄읕🎄선물도많이받구 이서두 행복했떠?💕내년엔 집콕말고 ...   \n",
       "98                            𝚖𝚊𝚛𝚛𝚢 𝚌𝚑𝚛𝚒𝚜𝚝𝚖𝚊𝚜 𝚢𝚒𝚜𝚎𝚘❤︎   \n",
       "99  며칠 더 입혀보고 남기려고했는데 오늘 아침스토리보시고 종~일 많은분들이 요 슈트 물...   \n",
       "\n",
       "                                             username  \\\n",
       "0   [hyonlub, joy_and_l, imji_wonss, sojeonggim10,...   \n",
       "1   [eunmira6, ippdaji, hjheart6, doramafaldarevez...   \n",
       "2   [sktcy90, newmmeme, bebe_.recipe, 202.2318, an...   \n",
       "3                               [k.minse0, 2seo_home]   \n",
       "4   [goodi__mj, writtenbysey, ssu__nny, chachamom_...   \n",
       "..                                                ...   \n",
       "95  [with.u.yeseo, adongaaa, 2seo_home, heejuuu_k,...   \n",
       "96  [sung2hyun, jihye.jiyu__, yeonju_1.23, love22_...   \n",
       "97       [adongaaa, 2seo_home, harami__yun, seo_mjmj]   \n",
       "98  [adongaaa, 22.joon__, little_coya_05, 2seo_hom...   \n",
       "99  [remy_mom__, ps__yeon__, congsi._.m, 2seo_home...   \n",
       "\n",
       "                                             comments        date  like  \\\n",
       "0   [ㅇㅓ머ㅠㅠㅠ 넘 이뻐요...!!!, 아 너무 사랑스로미😍 많이 받은 사랑을 다른 ...  2023-06-08  1316   \n",
       "1   [ㅋㅋㅋㅋ진짜 아기랑  잘놀아주시네요., 아빠가 더 신나셨네요~~~, 아버님이 더 ...  2022-12-08  4958   \n",
       "2   [꺄 너무 귀여워요, 하이오즈에 애기수트안보이는데 어떤걸까요? 옷너무귀여워요, 너무...  2022-07-04     1   \n",
       "3    [ㅎㅎ언니도 오늘 여기 가려고했는뒈!!!!!! 여기 가봐야겠다 ㅎㅎ😍, 이서사랑해여🧡]  2023-08-23   124   \n",
       "4   [집에서도 웃으면서 잔놀아주는 착한아기야❤️5개월차 아들맘입니다.☺️소통하며 지내용...  2023-08-21   417   \n",
       "..                                                ...         ...   ...   \n",
       "95  [노선을 살짝 변경했구만요~~~♡, 갑자기 바쁜일😂❤️ 이서야 고생이 많아아❤️ 언...  2022-12-29   441   \n",
       "96  [하ㅠㅠ 안쓰러워요 ㅠㅠ정말 이서야 ㅜㅜㅜ 조용히지나가길빌게요 ㅠㅠ, 저희랑 반대예...  2022-12-27   858   \n",
       "97  [어디가 조촐하게죠오~~?😍❤️이서도 선물도 받고 너무 좋겠다아❤️, 256일🧡, ...  2022-12-25   422   \n",
       "98  [이서야 메리크리스마스야아❤️😍, 귀요미 루돌푸 이서야 행복한 메리크스마스 ! 🎄🎄...  2022-12-24   384   \n",
       "99  [이서 사랑해😍, 이서맘님 요거 사이즈가 어떻게되욤??!, 릴스 보다가 아가 사랑스...  2022-12-23   495   \n",
       "\n",
       "                                   tags  \n",
       "0                                    []  \n",
       "1                                    []  \n",
       "2                                    []  \n",
       "3                      [#웰컴키즈존, #아기랑카페]  \n",
       "4                       [#집콕놀이, #싱크대놀이]  \n",
       "..                                  ...  \n",
       "95                  [#코로나패밀리, #왜아직도목요일]  \n",
       "96                                   []  \n",
       "97                                   []  \n",
       "98                          [#하필팅팅부은날🤣]  \n",
       "99  [#협찬, #아기슈트, #아기잠옷, #아기실내복, #미니모먼트]  \n",
       "\n",
       "[100 rows x 6 columns]"
      ]
     },
     "execution_count": 18,
     "metadata": {},
     "output_type": "execute_result"
    }
   ],
   "source": [
    "# 오류났을때\n",
    "results_df"
   ]
  },
  {
   "cell_type": "code",
   "execution_count": 19,
   "metadata": {},
   "outputs": [],
   "source": [
    "results_df.to_csv(f'{DATA_PATH}크롤링02/_{infuluence}_{count}insta_crawling.csv', encoding='utf-8-sig')"
   ]
  },
  {
   "cell_type": "code",
   "execution_count": null,
   "metadata": {},
   "outputs": [],
   "source": []
  }
 ],
 "metadata": {
  "kernelspec": {
   "display_name": "Python 3",
   "language": "python",
   "name": "python3"
  },
  "language_info": {
   "codemirror_mode": {
    "name": "ipython",
    "version": 3
   },
   "file_extension": ".py",
   "mimetype": "text/x-python",
   "name": "python",
   "nbconvert_exporter": "python",
   "pygments_lexer": "ipython3",
   "version": "3.11.4"
  },
  "orig_nbformat": 4
 },
 "nbformat": 4,
 "nbformat_minor": 2
}
